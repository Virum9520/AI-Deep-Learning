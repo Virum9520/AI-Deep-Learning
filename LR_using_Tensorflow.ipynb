{
  "nbformat": 4,
  "nbformat_minor": 0,
  "metadata": {
    "colab": {
      "provenance": [],
      "authorship_tag": "ABX9TyPOY2YjKsN6OJDlTp2+7DPS",
      "include_colab_link": true
    },
    "kernelspec": {
      "name": "python3",
      "display_name": "Python 3"
    },
    "language_info": {
      "name": "python"
    }
  },
  "cells": [
    {
      "cell_type": "markdown",
      "metadata": {
        "id": "view-in-github",
        "colab_type": "text"
      },
      "source": [
        "<a href=\"https://colab.research.google.com/github/Virum9520/AI-Deep-Learning/blob/main/LR_using_Tensorflow.ipynb\" target=\"_parent\"><img src=\"https://colab.research.google.com/assets/colab-badge.svg\" alt=\"Open In Colab\"/></a>"
      ]
    },
    {
      "cell_type": "markdown",
      "source": [
        "#Classification"
      ],
      "metadata": {
        "id": "JpL5XlvaqPoz"
      }
    },
    {
      "cell_type": "code",
      "execution_count": 46,
      "metadata": {
        "id": "Bkjt9cHj1pyH"
      },
      "outputs": [],
      "source": [
        "import tensorflow as tf"
      ]
    },
    {
      "cell_type": "code",
      "source": [
        "from sklearn.datasets import load_breast_cancer"
      ],
      "metadata": {
        "id": "P-JBl6UV2Sgp"
      },
      "execution_count": null,
      "outputs": []
    },
    {
      "cell_type": "code",
      "source": [
        "data = load_breast_cancer()"
      ],
      "metadata": {
        "id": "iyXkcQHe2gIi"
      },
      "execution_count": null,
      "outputs": []
    },
    {
      "cell_type": "code",
      "source": [
        "data"
      ],
      "metadata": {
        "colab": {
          "base_uri": "https://localhost:8080/"
        },
        "id": "yD4u3rtv2n28",
        "outputId": "f40b8385-7793-4418-8586-dedfb43e61a4"
      },
      "execution_count": null,
      "outputs": [
        {
          "output_type": "execute_result",
          "data": {
            "text/plain": [
              "{'data': array([[1.799e+01, 1.038e+01, 1.228e+02, ..., 2.654e-01, 4.601e-01,\n",
              "         1.189e-01],\n",
              "        [2.057e+01, 1.777e+01, 1.329e+02, ..., 1.860e-01, 2.750e-01,\n",
              "         8.902e-02],\n",
              "        [1.969e+01, 2.125e+01, 1.300e+02, ..., 2.430e-01, 3.613e-01,\n",
              "         8.758e-02],\n",
              "        ...,\n",
              "        [1.660e+01, 2.808e+01, 1.083e+02, ..., 1.418e-01, 2.218e-01,\n",
              "         7.820e-02],\n",
              "        [2.060e+01, 2.933e+01, 1.401e+02, ..., 2.650e-01, 4.087e-01,\n",
              "         1.240e-01],\n",
              "        [7.760e+00, 2.454e+01, 4.792e+01, ..., 0.000e+00, 2.871e-01,\n",
              "         7.039e-02]]),\n",
              " 'target': array([0, 0, 0, 0, 0, 0, 0, 0, 0, 0, 0, 0, 0, 0, 0, 0, 0, 0, 0, 1, 1, 1,\n",
              "        0, 0, 0, 0, 0, 0, 0, 0, 0, 0, 0, 0, 0, 0, 0, 1, 0, 0, 0, 0, 0, 0,\n",
              "        0, 0, 1, 0, 1, 1, 1, 1, 1, 0, 0, 1, 0, 0, 1, 1, 1, 1, 0, 1, 0, 0,\n",
              "        1, 1, 1, 1, 0, 1, 0, 0, 1, 0, 1, 0, 0, 1, 1, 1, 0, 0, 1, 0, 0, 0,\n",
              "        1, 1, 1, 0, 1, 1, 0, 0, 1, 1, 1, 0, 0, 1, 1, 1, 1, 0, 1, 1, 0, 1,\n",
              "        1, 1, 1, 1, 1, 1, 1, 0, 0, 0, 1, 0, 0, 1, 1, 1, 0, 0, 1, 0, 1, 0,\n",
              "        0, 1, 0, 0, 1, 1, 0, 1, 1, 0, 1, 1, 1, 1, 0, 1, 1, 1, 1, 1, 1, 1,\n",
              "        1, 1, 0, 1, 1, 1, 1, 0, 0, 1, 0, 1, 1, 0, 0, 1, 1, 0, 0, 1, 1, 1,\n",
              "        1, 0, 1, 1, 0, 0, 0, 1, 0, 1, 0, 1, 1, 1, 0, 1, 1, 0, 0, 1, 0, 0,\n",
              "        0, 0, 1, 0, 0, 0, 1, 0, 1, 0, 1, 1, 0, 1, 0, 0, 0, 0, 1, 1, 0, 0,\n",
              "        1, 1, 1, 0, 1, 1, 1, 1, 1, 0, 0, 1, 1, 0, 1, 1, 0, 0, 1, 0, 1, 1,\n",
              "        1, 1, 0, 1, 1, 1, 1, 1, 0, 1, 0, 0, 0, 0, 0, 0, 0, 0, 0, 0, 0, 0,\n",
              "        0, 0, 1, 1, 1, 1, 1, 1, 0, 1, 0, 1, 1, 0, 1, 1, 0, 1, 0, 0, 1, 1,\n",
              "        1, 1, 1, 1, 1, 1, 1, 1, 1, 1, 1, 0, 1, 1, 0, 1, 0, 1, 1, 1, 1, 1,\n",
              "        1, 1, 1, 1, 1, 1, 1, 1, 1, 0, 1, 1, 1, 0, 1, 0, 1, 1, 1, 1, 0, 0,\n",
              "        0, 1, 1, 1, 1, 0, 1, 0, 1, 0, 1, 1, 1, 0, 1, 1, 1, 1, 1, 1, 1, 0,\n",
              "        0, 0, 1, 1, 1, 1, 1, 1, 1, 1, 1, 1, 1, 0, 0, 1, 0, 0, 0, 1, 0, 0,\n",
              "        1, 1, 1, 1, 1, 0, 1, 1, 1, 1, 1, 0, 1, 1, 1, 0, 1, 1, 0, 0, 1, 1,\n",
              "        1, 1, 1, 1, 0, 1, 1, 1, 1, 1, 1, 1, 0, 1, 1, 1, 1, 1, 0, 1, 1, 0,\n",
              "        1, 1, 1, 1, 1, 1, 1, 1, 1, 1, 1, 1, 0, 1, 0, 0, 1, 0, 1, 1, 1, 1,\n",
              "        1, 0, 1, 1, 0, 1, 0, 1, 1, 0, 1, 0, 1, 1, 1, 1, 1, 1, 1, 1, 0, 0,\n",
              "        1, 1, 1, 1, 1, 1, 0, 1, 1, 1, 1, 1, 1, 1, 1, 1, 1, 0, 1, 1, 1, 1,\n",
              "        1, 1, 1, 0, 1, 0, 1, 1, 0, 1, 1, 1, 1, 1, 0, 0, 1, 0, 1, 0, 1, 1,\n",
              "        1, 1, 1, 0, 1, 1, 0, 1, 0, 1, 0, 0, 1, 1, 1, 0, 1, 1, 1, 1, 1, 1,\n",
              "        1, 1, 1, 1, 1, 0, 1, 0, 0, 1, 1, 1, 1, 1, 1, 1, 1, 1, 1, 1, 1, 1,\n",
              "        1, 1, 1, 1, 1, 1, 1, 1, 1, 1, 1, 1, 0, 0, 0, 0, 0, 0, 1]),\n",
              " 'frame': None,\n",
              " 'target_names': array(['malignant', 'benign'], dtype='<U9'),\n",
              " 'DESCR': '.. _breast_cancer_dataset:\\n\\nBreast cancer wisconsin (diagnostic) dataset\\n--------------------------------------------\\n\\n**Data Set Characteristics:**\\n\\n    :Number of Instances: 569\\n\\n    :Number of Attributes: 30 numeric, predictive attributes and the class\\n\\n    :Attribute Information:\\n        - radius (mean of distances from center to points on the perimeter)\\n        - texture (standard deviation of gray-scale values)\\n        - perimeter\\n        - area\\n        - smoothness (local variation in radius lengths)\\n        - compactness (perimeter^2 / area - 1.0)\\n        - concavity (severity of concave portions of the contour)\\n        - concave points (number of concave portions of the contour)\\n        - symmetry\\n        - fractal dimension (\"coastline approximation\" - 1)\\n\\n        The mean, standard error, and \"worst\" or largest (mean of the three\\n        worst/largest values) of these features were computed for each image,\\n        resulting in 30 features.  For instance, field 0 is Mean Radius, field\\n        10 is Radius SE, field 20 is Worst Radius.\\n\\n        - class:\\n                - WDBC-Malignant\\n                - WDBC-Benign\\n\\n    :Summary Statistics:\\n\\n    ===================================== ====== ======\\n                                           Min    Max\\n    ===================================== ====== ======\\n    radius (mean):                        6.981  28.11\\n    texture (mean):                       9.71   39.28\\n    perimeter (mean):                     43.79  188.5\\n    area (mean):                          143.5  2501.0\\n    smoothness (mean):                    0.053  0.163\\n    compactness (mean):                   0.019  0.345\\n    concavity (mean):                     0.0    0.427\\n    concave points (mean):                0.0    0.201\\n    symmetry (mean):                      0.106  0.304\\n    fractal dimension (mean):             0.05   0.097\\n    radius (standard error):              0.112  2.873\\n    texture (standard error):             0.36   4.885\\n    perimeter (standard error):           0.757  21.98\\n    area (standard error):                6.802  542.2\\n    smoothness (standard error):          0.002  0.031\\n    compactness (standard error):         0.002  0.135\\n    concavity (standard error):           0.0    0.396\\n    concave points (standard error):      0.0    0.053\\n    symmetry (standard error):            0.008  0.079\\n    fractal dimension (standard error):   0.001  0.03\\n    radius (worst):                       7.93   36.04\\n    texture (worst):                      12.02  49.54\\n    perimeter (worst):                    50.41  251.2\\n    area (worst):                         185.2  4254.0\\n    smoothness (worst):                   0.071  0.223\\n    compactness (worst):                  0.027  1.058\\n    concavity (worst):                    0.0    1.252\\n    concave points (worst):               0.0    0.291\\n    symmetry (worst):                     0.156  0.664\\n    fractal dimension (worst):            0.055  0.208\\n    ===================================== ====== ======\\n\\n    :Missing Attribute Values: None\\n\\n    :Class Distribution: 212 - Malignant, 357 - Benign\\n\\n    :Creator:  Dr. William H. Wolberg, W. Nick Street, Olvi L. Mangasarian\\n\\n    :Donor: Nick Street\\n\\n    :Date: November, 1995\\n\\nThis is a copy of UCI ML Breast Cancer Wisconsin (Diagnostic) datasets.\\nhttps://goo.gl/U2Uwz2\\n\\nFeatures are computed from a digitized image of a fine needle\\naspirate (FNA) of a breast mass.  They describe\\ncharacteristics of the cell nuclei present in the image.\\n\\nSeparating plane described above was obtained using\\nMultisurface Method-Tree (MSM-T) [K. P. Bennett, \"Decision Tree\\nConstruction Via Linear Programming.\" Proceedings of the 4th\\nMidwest Artificial Intelligence and Cognitive Science Society,\\npp. 97-101, 1992], a classification method which uses linear\\nprogramming to construct a decision tree.  Relevant features\\nwere selected using an exhaustive search in the space of 1-4\\nfeatures and 1-3 separating planes.\\n\\nThe actual linear program used to obtain the separating plane\\nin the 3-dimensional space is that described in:\\n[K. P. Bennett and O. L. Mangasarian: \"Robust Linear\\nProgramming Discrimination of Two Linearly Inseparable Sets\",\\nOptimization Methods and Software 1, 1992, 23-34].\\n\\nThis database is also available through the UW CS ftp server:\\n\\nftp ftp.cs.wisc.edu\\ncd math-prog/cpo-dataset/machine-learn/WDBC/\\n\\n.. topic:: References\\n\\n   - W.N. Street, W.H. Wolberg and O.L. Mangasarian. Nuclear feature extraction \\n     for breast tumor diagnosis. IS&T/SPIE 1993 International Symposium on \\n     Electronic Imaging: Science and Technology, volume 1905, pages 861-870,\\n     San Jose, CA, 1993.\\n   - O.L. Mangasarian, W.N. Street and W.H. Wolberg. Breast cancer diagnosis and \\n     prognosis via linear programming. Operations Research, 43(4), pages 570-577, \\n     July-August 1995.\\n   - W.H. Wolberg, W.N. Street, and O.L. Mangasarian. Machine learning techniques\\n     to diagnose breast cancer from fine-needle aspirates. Cancer Letters 77 (1994) \\n     163-171.',\n",
              " 'feature_names': array(['mean radius', 'mean texture', 'mean perimeter', 'mean area',\n",
              "        'mean smoothness', 'mean compactness', 'mean concavity',\n",
              "        'mean concave points', 'mean symmetry', 'mean fractal dimension',\n",
              "        'radius error', 'texture error', 'perimeter error', 'area error',\n",
              "        'smoothness error', 'compactness error', 'concavity error',\n",
              "        'concave points error', 'symmetry error',\n",
              "        'fractal dimension error', 'worst radius', 'worst texture',\n",
              "        'worst perimeter', 'worst area', 'worst smoothness',\n",
              "        'worst compactness', 'worst concavity', 'worst concave points',\n",
              "        'worst symmetry', 'worst fractal dimension'], dtype='<U23'),\n",
              " 'filename': 'breast_cancer.csv',\n",
              " 'data_module': 'sklearn.datasets.data'}"
            ]
          },
          "metadata": {},
          "execution_count": 5
        }
      ]
    },
    {
      "cell_type": "code",
      "source": [
        "data.keys()"
      ],
      "metadata": {
        "colab": {
          "base_uri": "https://localhost:8080/"
        },
        "id": "bNzvMD3k2ofo",
        "outputId": "9348ed16-013b-4497-8de9-10eb71d54f64"
      },
      "execution_count": null,
      "outputs": [
        {
          "output_type": "execute_result",
          "data": {
            "text/plain": [
              "dict_keys(['data', 'target', 'frame', 'target_names', 'DESCR', 'feature_names', 'filename', 'data_module'])"
            ]
          },
          "metadata": {},
          "execution_count": 6
        }
      ]
    },
    {
      "cell_type": "code",
      "source": [
        "data.data.shape"
      ],
      "metadata": {
        "colab": {
          "base_uri": "https://localhost:8080/"
        },
        "id": "YWNzPLJY2ucp",
        "outputId": "79f45fbe-9f03-4800-e192-d8fb94874ad5"
      },
      "execution_count": null,
      "outputs": [
        {
          "output_type": "execute_result",
          "data": {
            "text/plain": [
              "(569, 30)"
            ]
          },
          "metadata": {},
          "execution_count": 10
        }
      ]
    },
    {
      "cell_type": "code",
      "source": [
        "from sklearn.model_selection import train_test_split"
      ],
      "metadata": {
        "id": "f1gjxGQW2z14"
      },
      "execution_count": null,
      "outputs": []
    },
    {
      "cell_type": "code",
      "source": [
        "X_train, X_test, y_train, y_test = train_test_split(data.data, data.target, test_size=0.3)"
      ],
      "metadata": {
        "id": "sAtfGoFr3m__"
      },
      "execution_count": null,
      "outputs": []
    },
    {
      "cell_type": "code",
      "source": [
        "from sklearn.preprocessing import StandardScaler\n",
        "\n",
        "scaler = StandardScaler()\n",
        "X_train = scaler.fit_transform(X_train)\n",
        "X_test = scaler.transform(X_test)"
      ],
      "metadata": {
        "id": "9AeBpNmy4Q-X"
      },
      "execution_count": null,
      "outputs": []
    },
    {
      "cell_type": "code",
      "source": [
        "X_train.shape"
      ],
      "metadata": {
        "colab": {
          "base_uri": "https://localhost:8080/"
        },
        "id": "Qa0YWTKI7AbE",
        "outputId": "0359d076-e331-4563-e079-6844f90e11e7"
      },
      "execution_count": null,
      "outputs": [
        {
          "output_type": "execute_result",
          "data": {
            "text/plain": [
              "(398, 30)"
            ]
          },
          "metadata": {},
          "execution_count": 19
        }
      ]
    },
    {
      "cell_type": "code",
      "source": [
        "from keras.models import Sequential\n",
        "from keras.layers import Input, Dense"
      ],
      "metadata": {
        "id": "mJxebyhN6XrX"
      },
      "execution_count": 47,
      "outputs": []
    },
    {
      "cell_type": "code",
      "source": [
        "model = Sequential()\n",
        "model.add(Input(shape=(30,)))\n",
        "model.add(Dense(1, activation = 'sigmoid'))"
      ],
      "metadata": {
        "id": "0MHVpqVX-oOc"
      },
      "execution_count": null,
      "outputs": []
    },
    {
      "cell_type": "code",
      "source": [
        "model.compile(optimizer='adam',loss='binary_crossentropy',metrics=['accuracy'])"
      ],
      "metadata": {
        "id": "0fXGW7xZ7b3H"
      },
      "execution_count": null,
      "outputs": []
    },
    {
      "cell_type": "code",
      "source": [
        "LR = model.fit(X_train, y_train, validation_data=(X_test, y_test), epochs=100)"
      ],
      "metadata": {
        "colab": {
          "base_uri": "https://localhost:8080/"
        },
        "id": "HIcwOCKN9gRr",
        "outputId": "8caf94da-55bb-45ab-cc4d-a2378dfe1056"
      },
      "execution_count": null,
      "outputs": [
        {
          "output_type": "stream",
          "name": "stdout",
          "text": [
            "Epoch 1/100\n",
            "13/13 [==============================] - 1s 20ms/step - loss: 0.8630 - accuracy: 0.3945 - val_loss: 0.7989 - val_accuracy: 0.4269\n",
            "Epoch 2/100\n",
            "13/13 [==============================] - 0s 5ms/step - loss: 0.7723 - accuracy: 0.4749 - val_loss: 0.7197 - val_accuracy: 0.5146\n",
            "Epoch 3/100\n",
            "13/13 [==============================] - 0s 5ms/step - loss: 0.6956 - accuracy: 0.5603 - val_loss: 0.6515 - val_accuracy: 0.5848\n",
            "Epoch 4/100\n",
            "13/13 [==============================] - 0s 6ms/step - loss: 0.6331 - accuracy: 0.6256 - val_loss: 0.5928 - val_accuracy: 0.7018\n",
            "Epoch 5/100\n",
            "13/13 [==============================] - 0s 4ms/step - loss: 0.5790 - accuracy: 0.6859 - val_loss: 0.5457 - val_accuracy: 0.7485\n",
            "Epoch 6/100\n",
            "13/13 [==============================] - 0s 6ms/step - loss: 0.5356 - accuracy: 0.7136 - val_loss: 0.5060 - val_accuracy: 0.7895\n",
            "Epoch 7/100\n",
            "13/13 [==============================] - 0s 5ms/step - loss: 0.4990 - accuracy: 0.7638 - val_loss: 0.4728 - val_accuracy: 0.8187\n",
            "Epoch 8/100\n",
            "13/13 [==============================] - 0s 4ms/step - loss: 0.4678 - accuracy: 0.7965 - val_loss: 0.4440 - val_accuracy: 0.8538\n",
            "Epoch 9/100\n",
            "13/13 [==============================] - 0s 4ms/step - loss: 0.4409 - accuracy: 0.8216 - val_loss: 0.4182 - val_accuracy: 0.8713\n",
            "Epoch 10/100\n",
            "13/13 [==============================] - 0s 5ms/step - loss: 0.4174 - accuracy: 0.8392 - val_loss: 0.3959 - val_accuracy: 0.8830\n",
            "Epoch 11/100\n",
            "13/13 [==============================] - 0s 6ms/step - loss: 0.3968 - accuracy: 0.8518 - val_loss: 0.3756 - val_accuracy: 0.8830\n",
            "Epoch 12/100\n",
            "13/13 [==============================] - 0s 6ms/step - loss: 0.3779 - accuracy: 0.8568 - val_loss: 0.3583 - val_accuracy: 0.9006\n",
            "Epoch 13/100\n",
            "13/13 [==============================] - 0s 6ms/step - loss: 0.3617 - accuracy: 0.8593 - val_loss: 0.3423 - val_accuracy: 0.9123\n",
            "Epoch 14/100\n",
            "13/13 [==============================] - 0s 5ms/step - loss: 0.3468 - accuracy: 0.8593 - val_loss: 0.3280 - val_accuracy: 0.9123\n",
            "Epoch 15/100\n",
            "13/13 [==============================] - 0s 5ms/step - loss: 0.3338 - accuracy: 0.8618 - val_loss: 0.3150 - val_accuracy: 0.9181\n",
            "Epoch 16/100\n",
            "13/13 [==============================] - 0s 6ms/step - loss: 0.3215 - accuracy: 0.8668 - val_loss: 0.3033 - val_accuracy: 0.9298\n",
            "Epoch 17/100\n",
            "13/13 [==============================] - 0s 5ms/step - loss: 0.3106 - accuracy: 0.8794 - val_loss: 0.2924 - val_accuracy: 0.9298\n",
            "Epoch 18/100\n",
            "13/13 [==============================] - 0s 5ms/step - loss: 0.3006 - accuracy: 0.8819 - val_loss: 0.2823 - val_accuracy: 0.9298\n",
            "Epoch 19/100\n",
            "13/13 [==============================] - 0s 4ms/step - loss: 0.2912 - accuracy: 0.8894 - val_loss: 0.2730 - val_accuracy: 0.9298\n",
            "Epoch 20/100\n",
            "13/13 [==============================] - 0s 5ms/step - loss: 0.2826 - accuracy: 0.8970 - val_loss: 0.2646 - val_accuracy: 0.9298\n",
            "Epoch 21/100\n",
            "13/13 [==============================] - 0s 6ms/step - loss: 0.2747 - accuracy: 0.9020 - val_loss: 0.2565 - val_accuracy: 0.9357\n",
            "Epoch 22/100\n",
            "13/13 [==============================] - 0s 7ms/step - loss: 0.2671 - accuracy: 0.9045 - val_loss: 0.2491 - val_accuracy: 0.9415\n",
            "Epoch 23/100\n",
            "13/13 [==============================] - 0s 7ms/step - loss: 0.2605 - accuracy: 0.9070 - val_loss: 0.2425 - val_accuracy: 0.9415\n",
            "Epoch 24/100\n",
            "13/13 [==============================] - 0s 8ms/step - loss: 0.2539 - accuracy: 0.9146 - val_loss: 0.2360 - val_accuracy: 0.9415\n",
            "Epoch 25/100\n",
            "13/13 [==============================] - 0s 8ms/step - loss: 0.2478 - accuracy: 0.9171 - val_loss: 0.2299 - val_accuracy: 0.9415\n",
            "Epoch 26/100\n",
            "13/13 [==============================] - 0s 7ms/step - loss: 0.2421 - accuracy: 0.9171 - val_loss: 0.2241 - val_accuracy: 0.9415\n",
            "Epoch 27/100\n",
            "13/13 [==============================] - 0s 8ms/step - loss: 0.2367 - accuracy: 0.9171 - val_loss: 0.2187 - val_accuracy: 0.9415\n",
            "Epoch 28/100\n",
            "13/13 [==============================] - 0s 7ms/step - loss: 0.2317 - accuracy: 0.9196 - val_loss: 0.2136 - val_accuracy: 0.9415\n",
            "Epoch 29/100\n",
            "13/13 [==============================] - 0s 7ms/step - loss: 0.2270 - accuracy: 0.9196 - val_loss: 0.2088 - val_accuracy: 0.9415\n",
            "Epoch 30/100\n",
            "13/13 [==============================] - 0s 6ms/step - loss: 0.2225 - accuracy: 0.9221 - val_loss: 0.2044 - val_accuracy: 0.9415\n",
            "Epoch 31/100\n",
            "13/13 [==============================] - 0s 6ms/step - loss: 0.2183 - accuracy: 0.9221 - val_loss: 0.2001 - val_accuracy: 0.9415\n",
            "Epoch 32/100\n",
            "13/13 [==============================] - 0s 7ms/step - loss: 0.2142 - accuracy: 0.9246 - val_loss: 0.1960 - val_accuracy: 0.9415\n",
            "Epoch 33/100\n",
            "13/13 [==============================] - 0s 8ms/step - loss: 0.2104 - accuracy: 0.9246 - val_loss: 0.1921 - val_accuracy: 0.9415\n",
            "Epoch 34/100\n",
            "13/13 [==============================] - 0s 7ms/step - loss: 0.2065 - accuracy: 0.9246 - val_loss: 0.1883 - val_accuracy: 0.9415\n",
            "Epoch 35/100\n",
            "13/13 [==============================] - 0s 7ms/step - loss: 0.2030 - accuracy: 0.9271 - val_loss: 0.1846 - val_accuracy: 0.9415\n",
            "Epoch 36/100\n",
            "13/13 [==============================] - 0s 8ms/step - loss: 0.1996 - accuracy: 0.9296 - val_loss: 0.1812 - val_accuracy: 0.9415\n",
            "Epoch 37/100\n",
            "13/13 [==============================] - 0s 7ms/step - loss: 0.1965 - accuracy: 0.9322 - val_loss: 0.1779 - val_accuracy: 0.9415\n",
            "Epoch 38/100\n",
            "13/13 [==============================] - 0s 7ms/step - loss: 0.1933 - accuracy: 0.9372 - val_loss: 0.1749 - val_accuracy: 0.9415\n",
            "Epoch 39/100\n",
            "13/13 [==============================] - 0s 7ms/step - loss: 0.1904 - accuracy: 0.9372 - val_loss: 0.1718 - val_accuracy: 0.9474\n",
            "Epoch 40/100\n",
            "13/13 [==============================] - 0s 7ms/step - loss: 0.1877 - accuracy: 0.9372 - val_loss: 0.1690 - val_accuracy: 0.9474\n",
            "Epoch 41/100\n",
            "13/13 [==============================] - 0s 7ms/step - loss: 0.1849 - accuracy: 0.9372 - val_loss: 0.1663 - val_accuracy: 0.9474\n",
            "Epoch 42/100\n",
            "13/13 [==============================] - 0s 7ms/step - loss: 0.1824 - accuracy: 0.9372 - val_loss: 0.1636 - val_accuracy: 0.9474\n",
            "Epoch 43/100\n",
            "13/13 [==============================] - 0s 7ms/step - loss: 0.1799 - accuracy: 0.9372 - val_loss: 0.1612 - val_accuracy: 0.9474\n",
            "Epoch 44/100\n",
            "13/13 [==============================] - 0s 8ms/step - loss: 0.1776 - accuracy: 0.9372 - val_loss: 0.1587 - val_accuracy: 0.9532\n",
            "Epoch 45/100\n",
            "13/13 [==============================] - 0s 8ms/step - loss: 0.1753 - accuracy: 0.9372 - val_loss: 0.1564 - val_accuracy: 0.9532\n",
            "Epoch 46/100\n",
            "13/13 [==============================] - 0s 8ms/step - loss: 0.1732 - accuracy: 0.9372 - val_loss: 0.1542 - val_accuracy: 0.9532\n",
            "Epoch 47/100\n",
            "13/13 [==============================] - 0s 7ms/step - loss: 0.1710 - accuracy: 0.9397 - val_loss: 0.1520 - val_accuracy: 0.9532\n",
            "Epoch 48/100\n",
            "13/13 [==============================] - 0s 7ms/step - loss: 0.1690 - accuracy: 0.9397 - val_loss: 0.1499 - val_accuracy: 0.9532\n",
            "Epoch 49/100\n",
            "13/13 [==============================] - 0s 8ms/step - loss: 0.1671 - accuracy: 0.9397 - val_loss: 0.1478 - val_accuracy: 0.9532\n",
            "Epoch 50/100\n",
            "13/13 [==============================] - 0s 7ms/step - loss: 0.1652 - accuracy: 0.9422 - val_loss: 0.1460 - val_accuracy: 0.9532\n",
            "Epoch 51/100\n",
            "13/13 [==============================] - 0s 8ms/step - loss: 0.1634 - accuracy: 0.9422 - val_loss: 0.1440 - val_accuracy: 0.9532\n",
            "Epoch 52/100\n",
            "13/13 [==============================] - 0s 8ms/step - loss: 0.1617 - accuracy: 0.9422 - val_loss: 0.1423 - val_accuracy: 0.9532\n",
            "Epoch 53/100\n",
            "13/13 [==============================] - 0s 7ms/step - loss: 0.1600 - accuracy: 0.9422 - val_loss: 0.1406 - val_accuracy: 0.9532\n",
            "Epoch 54/100\n",
            "13/13 [==============================] - 0s 6ms/step - loss: 0.1583 - accuracy: 0.9447 - val_loss: 0.1388 - val_accuracy: 0.9532\n",
            "Epoch 55/100\n",
            "13/13 [==============================] - 0s 8ms/step - loss: 0.1567 - accuracy: 0.9447 - val_loss: 0.1371 - val_accuracy: 0.9532\n",
            "Epoch 56/100\n",
            "13/13 [==============================] - 0s 8ms/step - loss: 0.1551 - accuracy: 0.9472 - val_loss: 0.1356 - val_accuracy: 0.9532\n",
            "Epoch 57/100\n",
            "13/13 [==============================] - 0s 7ms/step - loss: 0.1537 - accuracy: 0.9472 - val_loss: 0.1341 - val_accuracy: 0.9532\n",
            "Epoch 58/100\n",
            "13/13 [==============================] - 0s 7ms/step - loss: 0.1522 - accuracy: 0.9472 - val_loss: 0.1326 - val_accuracy: 0.9532\n",
            "Epoch 59/100\n",
            "13/13 [==============================] - 0s 8ms/step - loss: 0.1507 - accuracy: 0.9472 - val_loss: 0.1311 - val_accuracy: 0.9591\n",
            "Epoch 60/100\n",
            "13/13 [==============================] - 0s 8ms/step - loss: 0.1494 - accuracy: 0.9472 - val_loss: 0.1298 - val_accuracy: 0.9591\n",
            "Epoch 61/100\n",
            "13/13 [==============================] - 0s 7ms/step - loss: 0.1481 - accuracy: 0.9472 - val_loss: 0.1283 - val_accuracy: 0.9591\n",
            "Epoch 62/100\n",
            "13/13 [==============================] - 0s 6ms/step - loss: 0.1467 - accuracy: 0.9472 - val_loss: 0.1270 - val_accuracy: 0.9591\n",
            "Epoch 63/100\n",
            "13/13 [==============================] - 0s 8ms/step - loss: 0.1455 - accuracy: 0.9472 - val_loss: 0.1257 - val_accuracy: 0.9591\n",
            "Epoch 64/100\n",
            "13/13 [==============================] - 0s 8ms/step - loss: 0.1443 - accuracy: 0.9497 - val_loss: 0.1245 - val_accuracy: 0.9591\n",
            "Epoch 65/100\n",
            "13/13 [==============================] - 0s 8ms/step - loss: 0.1431 - accuracy: 0.9497 - val_loss: 0.1232 - val_accuracy: 0.9591\n",
            "Epoch 66/100\n",
            "13/13 [==============================] - 0s 4ms/step - loss: 0.1420 - accuracy: 0.9523 - val_loss: 0.1219 - val_accuracy: 0.9591\n",
            "Epoch 67/100\n",
            "13/13 [==============================] - 0s 6ms/step - loss: 0.1409 - accuracy: 0.9523 - val_loss: 0.1207 - val_accuracy: 0.9591\n",
            "Epoch 68/100\n",
            "13/13 [==============================] - 0s 5ms/step - loss: 0.1397 - accuracy: 0.9548 - val_loss: 0.1195 - val_accuracy: 0.9591\n",
            "Epoch 69/100\n",
            "13/13 [==============================] - 0s 5ms/step - loss: 0.1386 - accuracy: 0.9548 - val_loss: 0.1184 - val_accuracy: 0.9591\n",
            "Epoch 70/100\n",
            "13/13 [==============================] - 0s 5ms/step - loss: 0.1376 - accuracy: 0.9548 - val_loss: 0.1174 - val_accuracy: 0.9591\n",
            "Epoch 71/100\n",
            "13/13 [==============================] - 0s 5ms/step - loss: 0.1366 - accuracy: 0.9548 - val_loss: 0.1164 - val_accuracy: 0.9591\n",
            "Epoch 72/100\n",
            "13/13 [==============================] - 0s 5ms/step - loss: 0.1356 - accuracy: 0.9548 - val_loss: 0.1153 - val_accuracy: 0.9591\n",
            "Epoch 73/100\n",
            "13/13 [==============================] - 0s 5ms/step - loss: 0.1347 - accuracy: 0.9548 - val_loss: 0.1144 - val_accuracy: 0.9591\n",
            "Epoch 74/100\n",
            "13/13 [==============================] - 0s 6ms/step - loss: 0.1337 - accuracy: 0.9573 - val_loss: 0.1134 - val_accuracy: 0.9591\n",
            "Epoch 75/100\n",
            "13/13 [==============================] - 0s 5ms/step - loss: 0.1328 - accuracy: 0.9573 - val_loss: 0.1125 - val_accuracy: 0.9591\n",
            "Epoch 76/100\n",
            "13/13 [==============================] - 0s 5ms/step - loss: 0.1320 - accuracy: 0.9573 - val_loss: 0.1115 - val_accuracy: 0.9591\n",
            "Epoch 77/100\n",
            "13/13 [==============================] - 0s 6ms/step - loss: 0.1310 - accuracy: 0.9598 - val_loss: 0.1107 - val_accuracy: 0.9591\n",
            "Epoch 78/100\n",
            "13/13 [==============================] - 0s 5ms/step - loss: 0.1302 - accuracy: 0.9598 - val_loss: 0.1097 - val_accuracy: 0.9591\n",
            "Epoch 79/100\n",
            "13/13 [==============================] - 0s 5ms/step - loss: 0.1294 - accuracy: 0.9598 - val_loss: 0.1088 - val_accuracy: 0.9649\n",
            "Epoch 80/100\n",
            "13/13 [==============================] - 0s 5ms/step - loss: 0.1285 - accuracy: 0.9598 - val_loss: 0.1079 - val_accuracy: 0.9649\n",
            "Epoch 81/100\n",
            "13/13 [==============================] - 0s 5ms/step - loss: 0.1277 - accuracy: 0.9598 - val_loss: 0.1070 - val_accuracy: 0.9649\n",
            "Epoch 82/100\n",
            "13/13 [==============================] - 0s 6ms/step - loss: 0.1269 - accuracy: 0.9598 - val_loss: 0.1062 - val_accuracy: 0.9649\n",
            "Epoch 83/100\n",
            "13/13 [==============================] - 0s 6ms/step - loss: 0.1261 - accuracy: 0.9573 - val_loss: 0.1054 - val_accuracy: 0.9649\n",
            "Epoch 84/100\n",
            "13/13 [==============================] - 0s 5ms/step - loss: 0.1254 - accuracy: 0.9573 - val_loss: 0.1047 - val_accuracy: 0.9649\n",
            "Epoch 85/100\n",
            "13/13 [==============================] - 0s 6ms/step - loss: 0.1247 - accuracy: 0.9573 - val_loss: 0.1038 - val_accuracy: 0.9649\n",
            "Epoch 86/100\n",
            "13/13 [==============================] - 0s 5ms/step - loss: 0.1241 - accuracy: 0.9573 - val_loss: 0.1032 - val_accuracy: 0.9649\n",
            "Epoch 87/100\n",
            "13/13 [==============================] - 0s 5ms/step - loss: 0.1233 - accuracy: 0.9573 - val_loss: 0.1025 - val_accuracy: 0.9649\n",
            "Epoch 88/100\n",
            "13/13 [==============================] - 0s 5ms/step - loss: 0.1226 - accuracy: 0.9598 - val_loss: 0.1019 - val_accuracy: 0.9649\n",
            "Epoch 89/100\n",
            "13/13 [==============================] - 0s 6ms/step - loss: 0.1219 - accuracy: 0.9598 - val_loss: 0.1013 - val_accuracy: 0.9649\n",
            "Epoch 90/100\n",
            "13/13 [==============================] - 0s 6ms/step - loss: 0.1213 - accuracy: 0.9623 - val_loss: 0.1005 - val_accuracy: 0.9649\n",
            "Epoch 91/100\n",
            "13/13 [==============================] - 0s 5ms/step - loss: 0.1207 - accuracy: 0.9623 - val_loss: 0.0998 - val_accuracy: 0.9649\n",
            "Epoch 92/100\n",
            "13/13 [==============================] - 0s 5ms/step - loss: 0.1200 - accuracy: 0.9623 - val_loss: 0.0992 - val_accuracy: 0.9649\n",
            "Epoch 93/100\n",
            "13/13 [==============================] - 0s 5ms/step - loss: 0.1194 - accuracy: 0.9623 - val_loss: 0.0985 - val_accuracy: 0.9649\n",
            "Epoch 94/100\n",
            "13/13 [==============================] - 0s 6ms/step - loss: 0.1188 - accuracy: 0.9623 - val_loss: 0.0978 - val_accuracy: 0.9649\n",
            "Epoch 95/100\n",
            "13/13 [==============================] - 0s 5ms/step - loss: 0.1182 - accuracy: 0.9623 - val_loss: 0.0971 - val_accuracy: 0.9649\n",
            "Epoch 96/100\n",
            "13/13 [==============================] - 0s 5ms/step - loss: 0.1176 - accuracy: 0.9623 - val_loss: 0.0965 - val_accuracy: 0.9649\n",
            "Epoch 97/100\n",
            "13/13 [==============================] - 0s 5ms/step - loss: 0.1170 - accuracy: 0.9623 - val_loss: 0.0960 - val_accuracy: 0.9649\n",
            "Epoch 98/100\n",
            "13/13 [==============================] - 0s 5ms/step - loss: 0.1165 - accuracy: 0.9623 - val_loss: 0.0954 - val_accuracy: 0.9649\n",
            "Epoch 99/100\n",
            "13/13 [==============================] - 0s 6ms/step - loss: 0.1159 - accuracy: 0.9648 - val_loss: 0.0949 - val_accuracy: 0.9649\n",
            "Epoch 100/100\n",
            "13/13 [==============================] - 0s 5ms/step - loss: 0.1154 - accuracy: 0.9648 - val_loss: 0.0943 - val_accuracy: 0.9649\n"
          ]
        }
      ]
    },
    {
      "cell_type": "code",
      "source": [
        "model.evaluate(X_train,y_train)"
      ],
      "metadata": {
        "colab": {
          "base_uri": "https://localhost:8080/"
        },
        "id": "EJ3MRe-D-v_d",
        "outputId": "b7ec854f-0128-4f3d-f2d9-efc166dc830b"
      },
      "execution_count": null,
      "outputs": [
        {
          "output_type": "stream",
          "name": "stdout",
          "text": [
            "13/13 [==============================] - 0s 9ms/step - loss: 0.1150 - accuracy: 0.9648\n"
          ]
        },
        {
          "output_type": "execute_result",
          "data": {
            "text/plain": [
              "[0.11502842605113983, 0.9648241400718689]"
            ]
          },
          "metadata": {},
          "execution_count": 45
        }
      ]
    },
    {
      "cell_type": "code",
      "source": [
        "model.evaluate(X_test,y_test)"
      ],
      "metadata": {
        "colab": {
          "base_uri": "https://localhost:8080/"
        },
        "id": "cys282Uy_8rz",
        "outputId": "5d323b96-6bae-4cef-f48f-98c550662543"
      },
      "execution_count": null,
      "outputs": [
        {
          "output_type": "stream",
          "name": "stdout",
          "text": [
            "6/6 [==============================] - 0s 4ms/step - loss: 0.0943 - accuracy: 0.9649\n"
          ]
        },
        {
          "output_type": "execute_result",
          "data": {
            "text/plain": [
              "[0.09427308291196823, 0.9649122953414917]"
            ]
          },
          "metadata": {},
          "execution_count": 46
        }
      ]
    },
    {
      "cell_type": "code",
      "source": [
        "import matplotlib.pyplot as plt\n",
        "\n",
        "plt.plot(LR.history['loss'], label='Loss')\n",
        "plt.plot(LR.history['val_loss'], label='Validation Loss')\n",
        "plt.legend()"
      ],
      "metadata": {
        "colab": {
          "base_uri": "https://localhost:8080/",
          "height": 473
        },
        "id": "g937b18sABTM",
        "outputId": "2a80654b-f29e-4b7c-f15b-608e3beb3699"
      },
      "execution_count": null,
      "outputs": [
        {
          "output_type": "execute_result",
          "data": {
            "text/plain": [
              "<matplotlib.legend.Legend at 0x7acb56fd71c0>"
            ]
          },
          "metadata": {},
          "execution_count": 54
        },
        {
          "output_type": "display_data",
          "data": {
            "text/plain": [
              "<Figure size 640x480 with 1 Axes>"
            ],
            "image/png": "[encoded data removed]"
          },
          "metadata": {}
        }
      ]
    },
    {
      "cell_type": "code",
      "source": [
        "plt.plot(LR.history['accuracy'], label='Accuracy')\n",
        "plt.plot(LR.history['val_accuracy'], label='Validation Accuracy')\n",
        "plt.legend()"
      ],
      "metadata": {
        "colab": {
          "base_uri": "https://localhost:8080/",
          "height": 467
        },
        "id": "A4CV9WSdASFp",
        "outputId": "434ee2c0-7aad-47cb-e5d6-0d339cb71b5b"
      },
      "execution_count": null,
      "outputs": [
        {
          "output_type": "execute_result",
          "data": {
            "text/plain": [
              "<matplotlib.legend.Legend at 0x7acb57766860>"
            ]
          },
          "metadata": {},
          "execution_count": 56
        },
        {
          "output_type": "display_data",
          "data": {
            "text/plain": [
              "<Figure size 640x480 with 1 Axes>"
            ],
            "image/png": "[encoded data removed]"
          },
          "metadata": {}
        }
      ]
    },
    {
      "cell_type": "markdown",
      "source": [
        "#Regression"
      ],
      "metadata": {
        "id": "th2Bv_6dqb8d"
      }
    },
    {
      "cell_type": "code",
      "source": [
        "import tensorflow as tf\n",
        "import pandas as pd\n",
        "import numpy as np"
      ],
      "metadata": {
        "id": "FCo-zzU2qfsn"
      },
      "execution_count": 3,
      "outputs": []
    },
    {
      "cell_type": "code",
      "source": [
        "import matplotlib.pyplot as plt"
      ],
      "metadata": {
        "id": "M4YnBvHN8KzQ"
      },
      "execution_count": 35,
      "outputs": []
    },
    {
      "cell_type": "code",
      "source": [
        "!wget 'https://raw.githubusercontent.com/lazyprogrammer/machine_learning_examples/master/tf2.0/moore.csv'"
      ],
      "metadata": {
        "colab": {
          "base_uri": "https://localhost:8080/"
        },
        "id": "c5N-MTavqpzu",
        "outputId": "624a4c99-a3e7-4ac3-9610-34662c06e9ea"
      },
      "execution_count": 4,
      "outputs": [
        {
          "output_type": "stream",
          "name": "stdout",
          "text": [
            "--2023-11-26 04:36:35--  https://raw.githubusercontent.com/lazyprogrammer/machine_learning_examples/master/tf2.0/moore.csv\n",
            "Resolving raw.githubusercontent.com (raw.githubusercontent.com)... 185.199.108.133, 185.199.110.133, 185.199.109.133, ...\n",
            "Connecting to raw.githubusercontent.com (raw.githubusercontent.com)|185.199.108.133|:443... connected.\n",
            "HTTP request sent, awaiting response... 200 OK\n",
            "Length: 2302 (2.2K) [text/plain]\n",
            "Saving to: ‘moore.csv’\n",
            "\n",
            "\rmoore.csv             0%[                    ]       0  --.-KB/s               \rmoore.csv           100%[===================>]   2.25K  --.-KB/s    in 0s      \n",
            "\n",
            "2023-11-26 04:36:36 (31.3 MB/s) - ‘moore.csv’ saved [2302/2302]\n",
            "\n"
          ]
        }
      ]
    },
    {
      "cell_type": "code",
      "source": [
        "!head moore.csv"
      ],
      "metadata": {
        "colab": {
          "base_uri": "https://localhost:8080/"
        },
        "id": "wEpvtnwUrkVR",
        "outputId": "7b49fe11-dc48-438f-e850-166a5d954e4b"
      },
      "execution_count": 71,
      "outputs": [
        {
          "output_type": "stream",
          "name": "stdout",
          "text": [
            "1971,2300\n",
            "1972,3500\n",
            "1973,2500\n",
            "1973,2500\n",
            "1974,4100\n",
            "1974,4500\n",
            "1974,8000\n",
            "1975,3510\n",
            "1976,5000\n",
            "1976,8500\n"
          ]
        }
      ]
    },
    {
      "cell_type": "code",
      "source": [
        "data = pd.read_csv('moore.csv',header=None).to_numpy()"
      ],
      "metadata": {
        "id": "4QLdHLCDtpqy"
      },
      "execution_count": 72,
      "outputs": []
    },
    {
      "cell_type": "code",
      "source": [
        "data[0:5]"
      ],
      "metadata": {
        "colab": {
          "base_uri": "https://localhost:8080/"
        },
        "id": "y4rtE0xG6dxF",
        "outputId": "c3fa6c34-73d0-42a4-8bb2-abd93cc686e5"
      },
      "execution_count": 73,
      "outputs": [
        {
          "output_type": "execute_result",
          "data": {
            "text/plain": [
              "array([[1971, 2300],\n",
              "       [1972, 3500],\n",
              "       [1973, 2500],\n",
              "       [1973, 2500],\n",
              "       [1974, 4100]])"
            ]
          },
          "metadata": {},
          "execution_count": 73
        }
      ]
    },
    {
      "cell_type": "code",
      "source": [
        "X = data[:,0].reshape(-1,1)"
      ],
      "metadata": {
        "id": "s2WRnNMS6mqc"
      },
      "execution_count": 74,
      "outputs": []
    },
    {
      "cell_type": "code",
      "source": [
        "Y = data[:,1]"
      ],
      "metadata": {
        "id": "PuJOAFck7DRK"
      },
      "execution_count": 75,
      "outputs": []
    },
    {
      "cell_type": "code",
      "source": [
        "plt.scatter(X,Y)"
      ],
      "metadata": {
        "colab": {
          "base_uri": "https://localhost:8080/",
          "height": 482
        },
        "id": "13fyCvFt7ELd",
        "outputId": "bae65c1a-7830-4506-80cf-3bcdb516753c"
      },
      "execution_count": 76,
      "outputs": [
        {
          "output_type": "execute_result",
          "data": {
            "text/plain": [
              "<matplotlib.collections.PathCollection at 0x7c409ac3a8c0>"
            ]
          },
          "metadata": {},
          "execution_count": 76
        },
        {
          "output_type": "display_data",
          "data": {
            "text/plain": [
              "<Figure size 640x480 with 1 Axes>"
            ],
            "image/png": "[encoded data removed]"
          },
          "metadata": {}
        }
      ]
    },
    {
      "cell_type": "code",
      "source": [
        "Y = np.log(Y)\n",
        "X = X - X.mean()"
      ],
      "metadata": {
        "id": "J0UJlAPH8GMl"
      },
      "execution_count": 80,
      "outputs": []
    },
    {
      "cell_type": "code",
      "source": [
        "plt.scatter(X,Y)"
      ],
      "metadata": {
        "colab": {
          "base_uri": "https://localhost:8080/",
          "height": 467
        },
        "id": "W0P0Xf5P80j_",
        "outputId": "d206430b-f0bb-494a-e341-43947b166bd2"
      },
      "execution_count": 81,
      "outputs": [
        {
          "output_type": "execute_result",
          "data": {
            "text/plain": [
              "<matplotlib.collections.PathCollection at 0x7c40ab6f3250>"
            ]
          },
          "metadata": {},
          "execution_count": 81
        },
        {
          "output_type": "display_data",
          "data": {
            "text/plain": [
              "<Figure size 640x480 with 1 Axes>"
            ],
            "image/png": "[encoded data removed]"
          },
          "metadata": {}
        }
      ]
    },
    {
      "cell_type": "code",
      "source": [
        "model = Sequential()\n",
        "model.add(Input(shape = X.shape))\n",
        "model.add(Dense(1))"
      ],
      "metadata": {
        "id": "kMUUrGC382XE"
      },
      "execution_count": 82,
      "outputs": []
    },
    {
      "cell_type": "code",
      "source": [
        "model.compile(tf.keras.optimizers.SGD(0.001,0.9), loss='mse',metrics=['accuracy'])"
      ],
      "metadata": {
        "id": "6jv2EmXF_fWr"
      },
      "execution_count": 83,
      "outputs": []
    },
    {
      "cell_type": "code",
      "source": [
        "def schedule(epochs,lr):\n",
        "  if epochs>=50:\n",
        "    return 0.0001\n",
        "  else:\n",
        "    return 0.001\n",
        "\n",
        "scheduler = tf.keras.callbacks.LearningRateScheduler(schedule)"
      ],
      "metadata": {
        "id": "5kUGVc2XB4In"
      },
      "execution_count": 84,
      "outputs": []
    },
    {
      "cell_type": "code",
      "source": [
        "LR2 = model.fit(X,Y, epochs=100, callbacks=[scheduler])"
      ],
      "metadata": {
        "colab": {
          "base_uri": "https://localhost:8080/"
        },
        "id": "5VWpjSAAAiM-",
        "outputId": "42d44660-8516-465a-a506-d3068e85a6fd"
      },
      "execution_count": 85,
      "outputs": [
        {
          "output_type": "stream",
          "name": "stdout",
          "text": [
            "Epoch 1/100\n",
            "6/6 [==============================] - 0s 3ms/step - loss: 145.6747 - accuracy: 0.0000e+00 - lr: 0.0010\n",
            "Epoch 2/100\n",
            "6/6 [==============================] - 0s 3ms/step - loss: 88.8755 - accuracy: 0.0000e+00 - lr: 0.0010\n",
            "Epoch 3/100\n",
            "6/6 [==============================] - 0s 3ms/step - loss: 50.6234 - accuracy: 0.0000e+00 - lr: 0.0010\n",
            "Epoch 4/100\n",
            "6/6 [==============================] - 0s 3ms/step - loss: 49.5783 - accuracy: 0.0000e+00 - lr: 0.0010\n",
            "Epoch 5/100\n",
            "6/6 [==============================] - 0s 3ms/step - loss: 31.0004 - accuracy: 0.0000e+00 - lr: 0.0010\n",
            "Epoch 6/100\n",
            "6/6 [==============================] - 0s 3ms/step - loss: 22.4317 - accuracy: 0.0000e+00 - lr: 0.0010\n",
            "Epoch 7/100\n",
            "6/6 [==============================] - 0s 3ms/step - loss: 11.7792 - accuracy: 0.0000e+00 - lr: 0.0010\n",
            "Epoch 8/100\n",
            "6/6 [==============================] - 0s 3ms/step - loss: 5.7896 - accuracy: 0.0000e+00 - lr: 0.0010\n",
            "Epoch 9/100\n",
            "6/6 [==============================] - 0s 3ms/step - loss: 3.3265 - accuracy: 0.0000e+00 - lr: 0.0010\n",
            "Epoch 10/100\n",
            "6/6 [==============================] - 0s 3ms/step - loss: 3.5226 - accuracy: 0.0000e+00 - lr: 0.0010\n",
            "Epoch 11/100\n",
            "6/6 [==============================] - 0s 3ms/step - loss: 1.6534 - accuracy: 0.0000e+00 - lr: 0.0010\n",
            "Epoch 12/100\n",
            "6/6 [==============================] - 0s 3ms/step - loss: 1.1172 - accuracy: 0.0000e+00 - lr: 0.0010\n",
            "Epoch 13/100\n",
            "6/6 [==============================] - 0s 3ms/step - loss: 0.6685 - accuracy: 0.0000e+00 - lr: 0.0010\n",
            "Epoch 14/100\n",
            "6/6 [==============================] - 0s 3ms/step - loss: 0.6764 - accuracy: 0.0000e+00 - lr: 0.0010\n",
            "Epoch 15/100\n",
            "6/6 [==============================] - 0s 3ms/step - loss: 0.5748 - accuracy: 0.0000e+00 - lr: 0.0010\n",
            "Epoch 16/100\n",
            "6/6 [==============================] - 0s 3ms/step - loss: 0.5968 - accuracy: 0.0000e+00 - lr: 0.0010\n",
            "Epoch 17/100\n",
            "6/6 [==============================] - 0s 2ms/step - loss: 0.5246 - accuracy: 0.0000e+00 - lr: 0.0010\n",
            "Epoch 18/100\n",
            "6/6 [==============================] - 0s 3ms/step - loss: 0.3186 - accuracy: 0.0000e+00 - lr: 0.0010\n",
            "Epoch 19/100\n",
            "6/6 [==============================] - 0s 3ms/step - loss: 0.2084 - accuracy: 0.0000e+00 - lr: 0.0010\n",
            "Epoch 20/100\n",
            "6/6 [==============================] - 0s 3ms/step - loss: 0.1780 - accuracy: 0.0000e+00 - lr: 0.0010\n",
            "Epoch 21/100\n",
            "6/6 [==============================] - 0s 3ms/step - loss: 0.1687 - accuracy: 0.0000e+00 - lr: 0.0010\n",
            "Epoch 22/100\n",
            "6/6 [==============================] - 0s 3ms/step - loss: 0.1415 - accuracy: 0.0000e+00 - lr: 0.0010\n",
            "Epoch 23/100\n",
            "6/6 [==============================] - 0s 3ms/step - loss: 0.1189 - accuracy: 0.0000e+00 - lr: 0.0010\n",
            "Epoch 24/100\n",
            "6/6 [==============================] - 0s 3ms/step - loss: 0.1581 - accuracy: 0.0000e+00 - lr: 0.0010\n",
            "Epoch 25/100\n",
            "6/6 [==============================] - 0s 3ms/step - loss: 0.1375 - accuracy: 0.0000e+00 - lr: 0.0010\n",
            "Epoch 26/100\n",
            "6/6 [==============================] - 0s 3ms/step - loss: 0.1455 - accuracy: 0.0000e+00 - lr: 0.0010\n",
            "Epoch 27/100\n",
            "6/6 [==============================] - 0s 3ms/step - loss: 0.1135 - accuracy: 0.0000e+00 - lr: 0.0010\n",
            "Epoch 28/100\n",
            "6/6 [==============================] - 0s 2ms/step - loss: 0.1372 - accuracy: 0.0000e+00 - lr: 0.0010\n",
            "Epoch 29/100\n",
            "6/6 [==============================] - 0s 2ms/step - loss: 0.1153 - accuracy: 0.0000e+00 - lr: 0.0010\n",
            "Epoch 30/100\n",
            "6/6 [==============================] - 0s 2ms/step - loss: 0.1046 - accuracy: 0.0000e+00 - lr: 0.0010\n",
            "Epoch 31/100\n",
            "6/6 [==============================] - 0s 2ms/step - loss: 0.1189 - accuracy: 0.0000e+00 - lr: 0.0010\n",
            "Epoch 32/100\n",
            "6/6 [==============================] - 0s 3ms/step - loss: 0.1045 - accuracy: 0.0000e+00 - lr: 0.0010\n",
            "Epoch 33/100\n",
            "6/6 [==============================] - 0s 3ms/step - loss: 0.1020 - accuracy: 0.0000e+00 - lr: 0.0010\n",
            "Epoch 34/100\n",
            "6/6 [==============================] - 0s 3ms/step - loss: 0.1258 - accuracy: 0.0000e+00 - lr: 0.0010\n",
            "Epoch 35/100\n",
            "6/6 [==============================] - 0s 3ms/step - loss: 0.1190 - accuracy: 0.0000e+00 - lr: 0.0010\n",
            "Epoch 36/100\n",
            "6/6 [==============================] - 0s 3ms/step - loss: 0.1100 - accuracy: 0.0000e+00 - lr: 0.0010\n",
            "Epoch 37/100\n",
            "6/6 [==============================] - 0s 4ms/step - loss: 0.1283 - accuracy: 0.0000e+00 - lr: 0.0010\n",
            "Epoch 38/100\n",
            "6/6 [==============================] - 0s 3ms/step - loss: 0.1063 - accuracy: 0.0000e+00 - lr: 0.0010\n",
            "Epoch 39/100\n",
            "6/6 [==============================] - 0s 3ms/step - loss: 0.1125 - accuracy: 0.0000e+00 - lr: 0.0010\n",
            "Epoch 40/100\n",
            "6/6 [==============================] - 0s 2ms/step - loss: 0.1085 - accuracy: 0.0000e+00 - lr: 0.0010\n",
            "Epoch 41/100\n",
            "6/6 [==============================] - 0s 3ms/step - loss: 0.1065 - accuracy: 0.0000e+00 - lr: 0.0010\n",
            "Epoch 42/100\n",
            "6/6 [==============================] - 0s 3ms/step - loss: 0.3071 - accuracy: 0.0000e+00 - lr: 0.0010\n",
            "Epoch 43/100\n",
            "6/6 [==============================] - 0s 3ms/step - loss: 0.1558 - accuracy: 0.0000e+00 - lr: 0.0010\n",
            "Epoch 44/100\n",
            "6/6 [==============================] - 0s 2ms/step - loss: 0.1245 - accuracy: 0.0000e+00 - lr: 0.0010\n",
            "Epoch 45/100\n",
            "6/6 [==============================] - 0s 2ms/step - loss: 0.1145 - accuracy: 0.0000e+00 - lr: 0.0010\n",
            "Epoch 46/100\n",
            "6/6 [==============================] - 0s 3ms/step - loss: 0.1652 - accuracy: 0.0000e+00 - lr: 0.0010\n",
            "Epoch 47/100\n",
            "6/6 [==============================] - 0s 3ms/step - loss: 0.1213 - accuracy: 0.0000e+00 - lr: 0.0010\n",
            "Epoch 48/100\n",
            "6/6 [==============================] - 0s 3ms/step - loss: 0.1086 - accuracy: 0.0000e+00 - lr: 0.0010\n",
            "Epoch 49/100\n",
            "6/6 [==============================] - 0s 3ms/step - loss: 0.1181 - accuracy: 0.0000e+00 - lr: 0.0010\n",
            "Epoch 50/100\n",
            "6/6 [==============================] - 0s 3ms/step - loss: 0.1059 - accuracy: 0.0000e+00 - lr: 0.0010\n",
            "Epoch 51/100\n",
            "6/6 [==============================] - 0s 3ms/step - loss: 0.6920 - accuracy: 0.0000e+00 - lr: 1.0000e-04\n",
            "Epoch 52/100\n",
            "6/6 [==============================] - 0s 3ms/step - loss: 1.1299 - accuracy: 0.0000e+00 - lr: 1.0000e-04\n",
            "Epoch 53/100\n",
            "6/6 [==============================] - 0s 3ms/step - loss: 0.2130 - accuracy: 0.0000e+00 - lr: 1.0000e-04\n",
            "Epoch 54/100\n",
            "6/6 [==============================] - 0s 3ms/step - loss: 0.3251 - accuracy: 0.0000e+00 - lr: 1.0000e-04\n",
            "Epoch 55/100\n",
            "6/6 [==============================] - 0s 3ms/step - loss: 0.2449 - accuracy: 0.0000e+00 - lr: 1.0000e-04\n",
            "Epoch 56/100\n",
            "6/6 [==============================] - 0s 4ms/step - loss: 0.1098 - accuracy: 0.0000e+00 - lr: 1.0000e-04\n",
            "Epoch 57/100\n",
            "6/6 [==============================] - 0s 3ms/step - loss: 0.1421 - accuracy: 0.0000e+00 - lr: 1.0000e-04\n",
            "Epoch 58/100\n",
            "6/6 [==============================] - 0s 3ms/step - loss: 0.1129 - accuracy: 0.0000e+00 - lr: 1.0000e-04\n",
            "Epoch 59/100\n",
            "6/6 [==============================] - 0s 3ms/step - loss: 0.0994 - accuracy: 0.0000e+00 - lr: 1.0000e-04\n",
            "Epoch 60/100\n",
            "6/6 [==============================] - 0s 3ms/step - loss: 0.1022 - accuracy: 0.0000e+00 - lr: 1.0000e-04\n",
            "Epoch 61/100\n",
            "6/6 [==============================] - 0s 3ms/step - loss: 0.0997 - accuracy: 0.0000e+00 - lr: 1.0000e-04\n",
            "Epoch 62/100\n",
            "6/6 [==============================] - 0s 3ms/step - loss: 0.0994 - accuracy: 0.0000e+00 - lr: 1.0000e-04\n",
            "Epoch 63/100\n",
            "6/6 [==============================] - 0s 3ms/step - loss: 0.0994 - accuracy: 0.0000e+00 - lr: 1.0000e-04\n",
            "Epoch 64/100\n",
            "6/6 [==============================] - 0s 3ms/step - loss: 0.1001 - accuracy: 0.0000e+00 - lr: 1.0000e-04\n",
            "Epoch 65/100\n",
            "6/6 [==============================] - 0s 3ms/step - loss: 0.0990 - accuracy: 0.0000e+00 - lr: 1.0000e-04\n",
            "Epoch 66/100\n",
            "6/6 [==============================] - 0s 3ms/step - loss: 0.1098 - accuracy: 0.0000e+00 - lr: 1.0000e-04\n",
            "Epoch 67/100\n",
            "6/6 [==============================] - 0s 3ms/step - loss: 0.1259 - accuracy: 0.0000e+00 - lr: 1.0000e-04\n",
            "Epoch 68/100\n",
            "6/6 [==============================] - 0s 4ms/step - loss: 0.1046 - accuracy: 0.0000e+00 - lr: 1.0000e-04\n",
            "Epoch 69/100\n",
            "6/6 [==============================] - 0s 3ms/step - loss: 0.0997 - accuracy: 0.0000e+00 - lr: 1.0000e-04\n",
            "Epoch 70/100\n",
            "6/6 [==============================] - 0s 3ms/step - loss: 0.0992 - accuracy: 0.0000e+00 - lr: 1.0000e-04\n",
            "Epoch 71/100\n",
            "6/6 [==============================] - 0s 3ms/step - loss: 0.0994 - accuracy: 0.0000e+00 - lr: 1.0000e-04\n",
            "Epoch 72/100\n",
            "6/6 [==============================] - 0s 3ms/step - loss: 0.1032 - accuracy: 0.0000e+00 - lr: 1.0000e-04\n",
            "Epoch 73/100\n",
            "6/6 [==============================] - 0s 3ms/step - loss: 0.1028 - accuracy: 0.0000e+00 - lr: 1.0000e-04\n",
            "Epoch 74/100\n",
            "6/6 [==============================] - 0s 3ms/step - loss: 0.0994 - accuracy: 0.0000e+00 - lr: 1.0000e-04\n",
            "Epoch 75/100\n",
            "6/6 [==============================] - 0s 3ms/step - loss: 0.0996 - accuracy: 0.0000e+00 - lr: 1.0000e-04\n",
            "Epoch 76/100\n",
            "6/6 [==============================] - 0s 3ms/step - loss: 0.0989 - accuracy: 0.0000e+00 - lr: 1.0000e-04\n",
            "Epoch 77/100\n",
            "6/6 [==============================] - 0s 3ms/step - loss: 0.1018 - accuracy: 0.0000e+00 - lr: 1.0000e-04\n",
            "Epoch 78/100\n",
            "6/6 [==============================] - 0s 3ms/step - loss: 0.0999 - accuracy: 0.0000e+00 - lr: 1.0000e-04\n",
            "Epoch 79/100\n",
            "6/6 [==============================] - 0s 3ms/step - loss: 0.0999 - accuracy: 0.0000e+00 - lr: 1.0000e-04\n",
            "Epoch 80/100\n",
            "6/6 [==============================] - 0s 3ms/step - loss: 0.0990 - accuracy: 0.0000e+00 - lr: 1.0000e-04\n",
            "Epoch 81/100\n",
            "6/6 [==============================] - 0s 2ms/step - loss: 0.0995 - accuracy: 0.0000e+00 - lr: 1.0000e-04\n",
            "Epoch 82/100\n",
            "6/6 [==============================] - 0s 3ms/step - loss: 0.0990 - accuracy: 0.0000e+00 - lr: 1.0000e-04\n",
            "Epoch 83/100\n",
            "6/6 [==============================] - 0s 4ms/step - loss: 0.1008 - accuracy: 0.0000e+00 - lr: 1.0000e-04\n",
            "Epoch 84/100\n",
            "6/6 [==============================] - 0s 3ms/step - loss: 0.0989 - accuracy: 0.0000e+00 - lr: 1.0000e-04\n",
            "Epoch 85/100\n",
            "6/6 [==============================] - 0s 3ms/step - loss: 0.1018 - accuracy: 0.0000e+00 - lr: 1.0000e-04\n",
            "Epoch 86/100\n",
            "6/6 [==============================] - 0s 3ms/step - loss: 0.1042 - accuracy: 0.0000e+00 - lr: 1.0000e-04\n",
            "Epoch 87/100\n",
            "6/6 [==============================] - 0s 3ms/step - loss: 0.0995 - accuracy: 0.0000e+00 - lr: 1.0000e-04\n",
            "Epoch 88/100\n",
            "6/6 [==============================] - 0s 3ms/step - loss: 0.0990 - accuracy: 0.0000e+00 - lr: 1.0000e-04\n",
            "Epoch 89/100\n",
            "6/6 [==============================] - 0s 3ms/step - loss: 0.0992 - accuracy: 0.0000e+00 - lr: 1.0000e-04\n",
            "Epoch 90/100\n",
            "6/6 [==============================] - 0s 3ms/step - loss: 0.1005 - accuracy: 0.0000e+00 - lr: 1.0000e-04\n",
            "Epoch 91/100\n",
            "6/6 [==============================] - 0s 3ms/step - loss: 0.0989 - accuracy: 0.0000e+00 - lr: 1.0000e-04\n",
            "Epoch 92/100\n",
            "6/6 [==============================] - 0s 3ms/step - loss: 0.1136 - accuracy: 0.0000e+00 - lr: 1.0000e-04\n",
            "Epoch 93/100\n",
            "6/6 [==============================] - 0s 3ms/step - loss: 0.1170 - accuracy: 0.0000e+00 - lr: 1.0000e-04\n",
            "Epoch 94/100\n",
            "6/6 [==============================] - 0s 3ms/step - loss: 0.1016 - accuracy: 0.0000e+00 - lr: 1.0000e-04\n",
            "Epoch 95/100\n",
            "6/6 [==============================] - 0s 3ms/step - loss: 0.1002 - accuracy: 0.0000e+00 - lr: 1.0000e-04\n",
            "Epoch 96/100\n",
            "6/6 [==============================] - 0s 3ms/step - loss: 0.0999 - accuracy: 0.0000e+00 - lr: 1.0000e-04\n",
            "Epoch 97/100\n",
            "6/6 [==============================] - 0s 3ms/step - loss: 0.0988 - accuracy: 0.0000e+00 - lr: 1.0000e-04\n",
            "Epoch 98/100\n",
            "6/6 [==============================] - 0s 3ms/step - loss: 0.1014 - accuracy: 0.0000e+00 - lr: 1.0000e-04\n",
            "Epoch 99/100\n",
            "6/6 [==============================] - 0s 3ms/step - loss: 0.1005 - accuracy: 0.0000e+00 - lr: 1.0000e-04\n",
            "Epoch 100/100\n",
            "6/6 [==============================] - 0s 3ms/step - loss: 0.0993 - accuracy: 0.0000e+00 - lr: 1.0000e-04\n"
          ]
        }
      ]
    },
    {
      "cell_type": "markdown",
      "source": [
        "#Plot the loss"
      ],
      "metadata": {
        "id": "ey7yDGV4DEZO"
      }
    },
    {
      "cell_type": "code",
      "source": [
        "plt.plot(LR2.history['loss'], label='loss')"
      ],
      "metadata": {
        "colab": {
          "base_uri": "https://localhost:8080/",
          "height": 467
        },
        "id": "Cqm0IoCEDF5U",
        "outputId": "26ad0956-4d6b-4ee7-8990-a0772c4623bc"
      },
      "execution_count": 86,
      "outputs": [
        {
          "output_type": "execute_result",
          "data": {
            "text/plain": [
              "[<matplotlib.lines.Line2D at 0x7c409ad93370>]"
            ]
          },
          "metadata": {},
          "execution_count": 86
        },
        {
          "output_type": "display_data",
          "data": {
            "text/plain": [
              "<Figure size 640x480 with 1 Axes>"
            ],
            "image/png": "[encoded data removed]"
          },
          "metadata": {}
        }
      ]
    },
    {
      "cell_type": "code",
      "source": [],
      "metadata": {
        "id": "OEe8kUtIDXHm"
      },
      "execution_count": null,
      "outputs": []
    }
  ]
}